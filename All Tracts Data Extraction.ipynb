{
 "cells": [
  {
   "cell_type": "code",
   "execution_count": 2,
   "id": "164caf07",
   "metadata": {},
   "outputs": [],
   "source": [
    "import pandas as pd\n",
    "import os\n",
    "from pathlib import Path\n",
    "import re"
   ]
  },
  {
   "cell_type": "code",
   "execution_count": 21,
   "id": "b159583a",
   "metadata": {},
   "outputs": [],
   "source": [
    "def get_paths():\n",
    "    tracts = []\n",
    "    paths = []\n",
    "    for path, subdirs, files in os.walk(Path(f'data/mass_tracts/')):\n",
    "        tracts = subdirs\n",
    "        for name in files:\n",
    "            file_path = os.path.join(path,name)\n",
    "            if name[0] != '.':\n",
    "                paths.append(file_path)\n",
    "    return paths"
   ]
  },
  {
   "cell_type": "code",
   "execution_count": 22,
   "id": "124761ea",
   "metadata": {},
   "outputs": [],
   "source": [
    "def parse(path):\n",
    "    title = path.split('/')[-1][:-4].replace('_',' ')\n",
    "    df = pd.read_csv(path)\n",
    "    category = list(df.iloc[0])[1:]\n",
    "    print(path)\n",
    "    df = df.set_index('Tracts').T.filter(list(df['Tracts'][1:-2]))\n",
    "    df.index = [i.split(',')[0] for i in df.index]\n",
    "    df.index = [list(df.index)[list(df.index).index(i)-1] if i[:7] == 'Unnamed' else i for i in df.index]\n",
    "    df.index = [list(df.index)[list(df.index).index(i)-1] if i[:7] == 'Unnamed' else i for i in df.index]\n",
    "    df['Category']=category\n",
    "    output = f'data/parsed_mass_tracts/{title}.csv'\n",
    "    df.to_csv(output)\n",
    "    return df"
   ]
  },
  {
   "cell_type": "code",
   "execution_count": 23,
   "id": "a77c7121",
   "metadata": {},
   "outputs": [
    {
     "name": "stdout",
     "output_type": "stream",
     "text": [
      "dir exists\n",
      "data/mass_tracts/Renter_Costs_as_a_Percentage_of_Household_Income_by_Income_Level_in_the_Past_12_Months_5YR_ACS_2015-2019.csv\n"
     ]
    }
   ],
   "source": [
    "try:\n",
    "    os.mkdir('data/parsed_mass_tracts/')\n",
    "except:\n",
    "    print('dir exists')\n",
    "for path in get_paths():\n",
    "    parse(path)"
   ]
  },
  {
   "cell_type": "code",
   "execution_count": 36,
   "id": "80b3876d",
   "metadata": {},
   "outputs": [],
   "source": [
    "def compare_target(file, target):\n",
    "    df = pd.read_csv(file)\n",
    "    df.groupby('Category').sum()\n",
    "    targetDF = df[df['Category']==target].dropna(axis=1, how='any').set_index('Unnamed: 0')\n",
    "    totalDF = df[df['Category']=='Total'].dropna(axis=1, how='any').set_index('Unnamed: 0')\n",
    "    print(totalDF)\n",
    "    for t in list(targetDF.index):\n",
    "        targetDF[t+' %'] = targetDF[t]/totalDF[t]\n",
    "    dropcols = [c if c[-1] != '%' else None for c in list(targetDF.columns)]\n",
    "    dropcols = list(filter((None).__ne__, dropcols))\n",
    "    targetDF = targetDF.drop(columns=dropcols)\n",
    "    try:\n",
    "        os.mkdir('data/parsed_mass_tracts')\n",
    "    except:\n",
    "        pass\n",
    "    targetDF.to_csv(f'data/parsed_mass_tracts/percent_{target}.csv')\n",
    "    return targetDF, totalDF"
   ]
  },
  {
   "cell_type": "code",
   "execution_count": 38,
   "id": "d74ab99f",
   "metadata": {},
   "outputs": [
    {
     "name": "stdout",
     "output_type": "stream",
     "text": [
      "                     Less than $20,000  $20,000 to $34,999  \\\n",
      "Unnamed: 0                                                   \n",
      "Census Tract 711.01                510                 168   \n",
      "Census Tract 804.01                645                 132   \n",
      "Census Tract 801                   197                 134   \n",
      "Census Tract 708                   303                 134   \n",
      "Census Tract 101.04                324                 100   \n",
      "Census Tract 104.04                336                 165   \n",
      "Census Tract 104.05                375                 124   \n",
      "Census Tract 107.01                 99                  36   \n",
      "Census Tract 104.03                548                 338   \n",
      "Census Tract 108.02                143                  24   \n",
      "Census Tract 105                   381                  83   \n",
      "Census Tract 805                   531                 242   \n",
      "Census Tract 709                   327                 124   \n",
      "\n",
      "                     $35,000 to $49,999  $50,000 to $74,999  $75,000 or more  \\\n",
      "Unnamed: 0                                                                     \n",
      "Census Tract 711.01                 106                  92              416   \n",
      "Census Tract 804.01                  38                 188              154   \n",
      "Census Tract 801                    124                  12               64   \n",
      "Census Tract 708                     81                 179              654   \n",
      "Census Tract 101.04                 104                 116              469   \n",
      "Census Tract 104.04                  89                 235              118   \n",
      "Census Tract 104.05                  65                  55              125   \n",
      "Census Tract 107.01                 106                 105              562   \n",
      "Census Tract 104.03                  99                 208              473   \n",
      "Census Tract 108.02                  68                 125              643   \n",
      "Census Tract 105                    102                 130              555   \n",
      "Census Tract 805                    190                 151              154   \n",
      "Census Tract 709                    188                 158              229   \n",
      "\n",
      "                     Zero or negative income  No cash rent  \\\n",
      "Unnamed: 0                                                   \n",
      "Census Tract 711.01                      9.0           0.0   \n",
      "Census Tract 804.01                     39.0          25.0   \n",
      "Census Tract 801                        22.0           0.0   \n",
      "Census Tract 708                         0.0          19.0   \n",
      "Census Tract 101.04                    116.0          26.0   \n",
      "Census Tract 104.04                    135.0          14.0   \n",
      "Census Tract 104.05                     55.0           0.0   \n",
      "Census Tract 107.01                      9.0          16.0   \n",
      "Census Tract 104.03                    142.0          15.0   \n",
      "Census Tract 108.02                     17.0          72.0   \n",
      "Census Tract 105                       121.0          11.0   \n",
      "Census Tract 805                        34.0          16.0   \n",
      "Census Tract 709                        33.0          11.0   \n",
      "\n",
      "                     Renter-occupied housing units Category  \n",
      "Unnamed: 0                                                   \n",
      "Census Tract 711.01                         1301.0    Total  \n",
      "Census Tract 804.01                         1221.0    Total  \n",
      "Census Tract 801                             553.0    Total  \n",
      "Census Tract 708                            1370.0    Total  \n",
      "Census Tract 101.04                         1255.0    Total  \n",
      "Census Tract 104.04                         1092.0    Total  \n",
      "Census Tract 104.05                          799.0    Total  \n",
      "Census Tract 107.01                          933.0    Total  \n",
      "Census Tract 104.03                         1823.0    Total  \n",
      "Census Tract 108.02                         1092.0    Total  \n",
      "Census Tract 105                            1383.0    Total  \n",
      "Census Tract 805                            1318.0    Total  \n",
      "Census Tract 709                            1070.0    Total  \n"
     ]
    },
    {
     "ename": "KeyError",
     "evalue": "'Census Tract 711.01'",
     "output_type": "error",
     "traceback": [
      "\u001b[0;31m---------------------------------------------------------------------------\u001b[0m",
      "\u001b[0;31mKeyError\u001b[0m                                  Traceback (most recent call last)",
      "\u001b[0;32m~/opt/anaconda3/lib/python3.8/site-packages/pandas/core/indexes/base.py\u001b[0m in \u001b[0;36mget_loc\u001b[0;34m(self, key, method, tolerance)\u001b[0m\n\u001b[1;32m   3360\u001b[0m             \u001b[0;32mtry\u001b[0m\u001b[0;34m:\u001b[0m\u001b[0;34m\u001b[0m\u001b[0;34m\u001b[0m\u001b[0m\n\u001b[0;32m-> 3361\u001b[0;31m                 \u001b[0;32mreturn\u001b[0m \u001b[0mself\u001b[0m\u001b[0;34m.\u001b[0m\u001b[0m_engine\u001b[0m\u001b[0;34m.\u001b[0m\u001b[0mget_loc\u001b[0m\u001b[0;34m(\u001b[0m\u001b[0mcasted_key\u001b[0m\u001b[0;34m)\u001b[0m\u001b[0;34m\u001b[0m\u001b[0;34m\u001b[0m\u001b[0m\n\u001b[0m\u001b[1;32m   3362\u001b[0m             \u001b[0;32mexcept\u001b[0m \u001b[0mKeyError\u001b[0m \u001b[0;32mas\u001b[0m \u001b[0merr\u001b[0m\u001b[0;34m:\u001b[0m\u001b[0;34m\u001b[0m\u001b[0;34m\u001b[0m\u001b[0m\n",
      "\u001b[0;32m~/opt/anaconda3/lib/python3.8/site-packages/pandas/_libs/index.pyx\u001b[0m in \u001b[0;36mpandas._libs.index.IndexEngine.get_loc\u001b[0;34m()\u001b[0m\n",
      "\u001b[0;32m~/opt/anaconda3/lib/python3.8/site-packages/pandas/_libs/index.pyx\u001b[0m in \u001b[0;36mpandas._libs.index.IndexEngine.get_loc\u001b[0;34m()\u001b[0m\n",
      "\u001b[0;32mpandas/_libs/hashtable_class_helper.pxi\u001b[0m in \u001b[0;36mpandas._libs.hashtable.PyObjectHashTable.get_item\u001b[0;34m()\u001b[0m\n",
      "\u001b[0;32mpandas/_libs/hashtable_class_helper.pxi\u001b[0m in \u001b[0;36mpandas._libs.hashtable.PyObjectHashTable.get_item\u001b[0;34m()\u001b[0m\n",
      "\u001b[0;31mKeyError\u001b[0m: 'Census Tract 711.01'",
      "\nThe above exception was the direct cause of the following exception:\n",
      "\u001b[0;31mKeyError\u001b[0m                                  Traceback (most recent call last)",
      "\u001b[0;32m/var/folders/cj/nflz0hc17434ztt1fymhzkpc0000gn/T/ipykernel_5336/286094186.py\u001b[0m in \u001b[0;36m<module>\u001b[0;34m\u001b[0m\n\u001b[0;32m----> 1\u001b[0;31m targetDF, totalDF = compare_target(\n\u001b[0m\u001b[1;32m      2\u001b[0m     \u001b[0;34m'data/parsed_mass_tracts/Renter Costs as a Percentage of Household Income by Income Level in the Past 12 Months 5YR ACS 2015-2019.csv'\u001b[0m\u001b[0;34m,\u001b[0m\u001b[0;34m\u001b[0m\u001b[0;34m\u001b[0m\u001b[0m\n\u001b[1;32m      3\u001b[0m     \u001b[0;34m'Renter Costs >= 30% Household Income'\u001b[0m\u001b[0;34m\u001b[0m\u001b[0;34m\u001b[0m\u001b[0m\n\u001b[1;32m      4\u001b[0m )\n",
      "\u001b[0;32m/var/folders/cj/nflz0hc17434ztt1fymhzkpc0000gn/T/ipykernel_5336/722900311.py\u001b[0m in \u001b[0;36mcompare_target\u001b[0;34m(file, target)\u001b[0m\n\u001b[1;32m      6\u001b[0m     \u001b[0mprint\u001b[0m\u001b[0;34m(\u001b[0m\u001b[0mtotalDF\u001b[0m\u001b[0;34m)\u001b[0m\u001b[0;34m\u001b[0m\u001b[0;34m\u001b[0m\u001b[0m\n\u001b[1;32m      7\u001b[0m     \u001b[0;32mfor\u001b[0m \u001b[0mt\u001b[0m \u001b[0;32min\u001b[0m \u001b[0mlist\u001b[0m\u001b[0;34m(\u001b[0m\u001b[0mtargetDF\u001b[0m\u001b[0;34m.\u001b[0m\u001b[0mindex\u001b[0m\u001b[0;34m)\u001b[0m\u001b[0;34m:\u001b[0m\u001b[0;34m\u001b[0m\u001b[0;34m\u001b[0m\u001b[0m\n\u001b[0;32m----> 8\u001b[0;31m         \u001b[0mtargetDF\u001b[0m\u001b[0;34m[\u001b[0m\u001b[0mt\u001b[0m\u001b[0;34m+\u001b[0m\u001b[0;34m' %'\u001b[0m\u001b[0;34m]\u001b[0m \u001b[0;34m=\u001b[0m \u001b[0mtargetDF\u001b[0m\u001b[0;34m[\u001b[0m\u001b[0mt\u001b[0m\u001b[0;34m]\u001b[0m\u001b[0;34m/\u001b[0m\u001b[0mtotalDF\u001b[0m\u001b[0;34m[\u001b[0m\u001b[0mt\u001b[0m\u001b[0;34m]\u001b[0m\u001b[0;34m\u001b[0m\u001b[0;34m\u001b[0m\u001b[0m\n\u001b[0m\u001b[1;32m      9\u001b[0m     \u001b[0mdropcols\u001b[0m \u001b[0;34m=\u001b[0m \u001b[0;34m[\u001b[0m\u001b[0mc\u001b[0m \u001b[0;32mif\u001b[0m \u001b[0mc\u001b[0m\u001b[0;34m[\u001b[0m\u001b[0;34m-\u001b[0m\u001b[0;36m1\u001b[0m\u001b[0;34m]\u001b[0m \u001b[0;34m!=\u001b[0m \u001b[0;34m'%'\u001b[0m \u001b[0;32melse\u001b[0m \u001b[0;32mNone\u001b[0m \u001b[0;32mfor\u001b[0m \u001b[0mc\u001b[0m \u001b[0;32min\u001b[0m \u001b[0mlist\u001b[0m\u001b[0;34m(\u001b[0m\u001b[0mtargetDF\u001b[0m\u001b[0;34m.\u001b[0m\u001b[0mcolumns\u001b[0m\u001b[0;34m)\u001b[0m\u001b[0;34m]\u001b[0m\u001b[0;34m\u001b[0m\u001b[0;34m\u001b[0m\u001b[0m\n\u001b[1;32m     10\u001b[0m     \u001b[0mdropcols\u001b[0m \u001b[0;34m=\u001b[0m \u001b[0mlist\u001b[0m\u001b[0;34m(\u001b[0m\u001b[0mfilter\u001b[0m\u001b[0;34m(\u001b[0m\u001b[0;34m(\u001b[0m\u001b[0;32mNone\u001b[0m\u001b[0;34m)\u001b[0m\u001b[0;34m.\u001b[0m\u001b[0m__ne__\u001b[0m\u001b[0;34m,\u001b[0m \u001b[0mdropcols\u001b[0m\u001b[0;34m)\u001b[0m\u001b[0;34m)\u001b[0m\u001b[0;34m\u001b[0m\u001b[0;34m\u001b[0m\u001b[0m\n",
      "\u001b[0;32m~/opt/anaconda3/lib/python3.8/site-packages/pandas/core/frame.py\u001b[0m in \u001b[0;36m__getitem__\u001b[0;34m(self, key)\u001b[0m\n\u001b[1;32m   3456\u001b[0m             \u001b[0;32mif\u001b[0m \u001b[0mself\u001b[0m\u001b[0;34m.\u001b[0m\u001b[0mcolumns\u001b[0m\u001b[0;34m.\u001b[0m\u001b[0mnlevels\u001b[0m \u001b[0;34m>\u001b[0m \u001b[0;36m1\u001b[0m\u001b[0;34m:\u001b[0m\u001b[0;34m\u001b[0m\u001b[0;34m\u001b[0m\u001b[0m\n\u001b[1;32m   3457\u001b[0m                 \u001b[0;32mreturn\u001b[0m \u001b[0mself\u001b[0m\u001b[0;34m.\u001b[0m\u001b[0m_getitem_multilevel\u001b[0m\u001b[0;34m(\u001b[0m\u001b[0mkey\u001b[0m\u001b[0;34m)\u001b[0m\u001b[0;34m\u001b[0m\u001b[0;34m\u001b[0m\u001b[0m\n\u001b[0;32m-> 3458\u001b[0;31m             \u001b[0mindexer\u001b[0m \u001b[0;34m=\u001b[0m \u001b[0mself\u001b[0m\u001b[0;34m.\u001b[0m\u001b[0mcolumns\u001b[0m\u001b[0;34m.\u001b[0m\u001b[0mget_loc\u001b[0m\u001b[0;34m(\u001b[0m\u001b[0mkey\u001b[0m\u001b[0;34m)\u001b[0m\u001b[0;34m\u001b[0m\u001b[0;34m\u001b[0m\u001b[0m\n\u001b[0m\u001b[1;32m   3459\u001b[0m             \u001b[0;32mif\u001b[0m \u001b[0mis_integer\u001b[0m\u001b[0;34m(\u001b[0m\u001b[0mindexer\u001b[0m\u001b[0;34m)\u001b[0m\u001b[0;34m:\u001b[0m\u001b[0;34m\u001b[0m\u001b[0;34m\u001b[0m\u001b[0m\n\u001b[1;32m   3460\u001b[0m                 \u001b[0mindexer\u001b[0m \u001b[0;34m=\u001b[0m \u001b[0;34m[\u001b[0m\u001b[0mindexer\u001b[0m\u001b[0;34m]\u001b[0m\u001b[0;34m\u001b[0m\u001b[0;34m\u001b[0m\u001b[0m\n",
      "\u001b[0;32m~/opt/anaconda3/lib/python3.8/site-packages/pandas/core/indexes/base.py\u001b[0m in \u001b[0;36mget_loc\u001b[0;34m(self, key, method, tolerance)\u001b[0m\n\u001b[1;32m   3361\u001b[0m                 \u001b[0;32mreturn\u001b[0m \u001b[0mself\u001b[0m\u001b[0;34m.\u001b[0m\u001b[0m_engine\u001b[0m\u001b[0;34m.\u001b[0m\u001b[0mget_loc\u001b[0m\u001b[0;34m(\u001b[0m\u001b[0mcasted_key\u001b[0m\u001b[0;34m)\u001b[0m\u001b[0;34m\u001b[0m\u001b[0;34m\u001b[0m\u001b[0m\n\u001b[1;32m   3362\u001b[0m             \u001b[0;32mexcept\u001b[0m \u001b[0mKeyError\u001b[0m \u001b[0;32mas\u001b[0m \u001b[0merr\u001b[0m\u001b[0;34m:\u001b[0m\u001b[0;34m\u001b[0m\u001b[0;34m\u001b[0m\u001b[0m\n\u001b[0;32m-> 3363\u001b[0;31m                 \u001b[0;32mraise\u001b[0m \u001b[0mKeyError\u001b[0m\u001b[0;34m(\u001b[0m\u001b[0mkey\u001b[0m\u001b[0;34m)\u001b[0m \u001b[0;32mfrom\u001b[0m \u001b[0merr\u001b[0m\u001b[0;34m\u001b[0m\u001b[0;34m\u001b[0m\u001b[0m\n\u001b[0m\u001b[1;32m   3364\u001b[0m \u001b[0;34m\u001b[0m\u001b[0m\n\u001b[1;32m   3365\u001b[0m         \u001b[0;32mif\u001b[0m \u001b[0mis_scalar\u001b[0m\u001b[0;34m(\u001b[0m\u001b[0mkey\u001b[0m\u001b[0;34m)\u001b[0m \u001b[0;32mand\u001b[0m \u001b[0misna\u001b[0m\u001b[0;34m(\u001b[0m\u001b[0mkey\u001b[0m\u001b[0;34m)\u001b[0m \u001b[0;32mand\u001b[0m \u001b[0;32mnot\u001b[0m \u001b[0mself\u001b[0m\u001b[0;34m.\u001b[0m\u001b[0mhasnans\u001b[0m\u001b[0;34m:\u001b[0m\u001b[0;34m\u001b[0m\u001b[0;34m\u001b[0m\u001b[0m\n",
      "\u001b[0;31mKeyError\u001b[0m: 'Census Tract 711.01'"
     ]
    }
   ],
   "source": [
    "targetDF, totalDF = compare_target(\n",
    "    'data/parsed_mass_tracts/Renter Costs as a Percentage of Household Income by Income Level in the Past 12 Months 5YR ACS 2015-2019.csv',\n",
    "    'Renter Costs >= 30% Household Income'\n",
    ")"
   ]
  },
  {
   "cell_type": "code",
   "execution_count": null,
   "id": "3986de92",
   "metadata": {},
   "outputs": [],
   "source": []
  }
 ],
 "metadata": {
  "kernelspec": {
   "display_name": "Python 3",
   "language": "python",
   "name": "python3"
  },
  "language_info": {
   "codemirror_mode": {
    "name": "ipython",
    "version": 3
   },
   "file_extension": ".py",
   "mimetype": "text/x-python",
   "name": "python",
   "nbconvert_exporter": "python",
   "pygments_lexer": "ipython3",
   "version": "3.8.3"
  }
 },
 "nbformat": 4,
 "nbformat_minor": 5
}
